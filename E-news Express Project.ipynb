{
 "cells": [
  {
   "cell_type": "markdown",
   "id": "1ec9864f",
   "metadata": {},
   "source": [
    "## E-news Express Project Analysis\n",
    "\n"
   ]
  },
  {
   "cell_type": "markdown",
   "id": "4a7dcd6c",
   "metadata": {},
   "source": [
    "#### Business Context"
   ]
  },
  {
   "cell_type": "markdown",
   "id": "a19c3efd",
   "metadata": {},
   "source": [
    "The advent of e-news, or electronic news, portals has offered us a great opportunity to quickly get updates on the day-to-day events occurring globally. The information on these portals is retrieved electronically from online databases, processed using a variety of software, and then transmitted to the users. There are multiple advantages of transmitting news electronically, like faster access to the content and the ability to utilize different technologies such as audio, graphics, video, and other interactive elements that are either not being used or aren’t common yet in traditional newspapers.\n",
    "E-news Express, an online news portal, aims to expand its business by acquiring new subscribers. With every visitor to the website taking certain actions based on their interest, the company plans to analyze these actions to understand user interests and determine how to drive better engagement. The executives at E-news Express are of the opinion that there has been a decline in new monthly subscribers compared to the past year because the current webpage is not designed well enough in terms of the outline & recommended content to keep customers engaged long enough to make a decision to subscribe.\n",
    "[Companies often analyze user responses to two variants of a product to decide which of the two variants is more effective. This experimental technique, known as A/B testing, is used to determine whether a new feature attracts users based on a chosen metric.]\n"
   ]
  },
  {
   "cell_type": "markdown",
   "id": "c0fdac9b",
   "metadata": {},
   "source": [
    "#### Objective"
   ]
  },
  {
   "cell_type": "markdown",
   "id": "aadfc211",
   "metadata": {},
   "source": [
    "\n",
    "The design team of the company has researched and created a new landing page that has a new outline & more relevant content shown compared to the old page. In order to test the effectiveness of the new landing page in gathering new subscribers, the Data Science team conducted an experiment by randomly selecting 100 users and dividing them equally into two groups. The existing landing page was served to the first group (control group) and the new landing page to the second group (treatment group). Data regarding the interaction of users in both groups with the two versions of the landing page was collected. Being a data scientist in E-news Express, **you have been asked to explore the data and perform a statistical analysis (at a significance level of 5%) to determine the effectiveness of the new landing page in gathering new subscribers for the news portal.**\n"
   ]
  },
  {
   "cell_type": "markdown",
   "id": "8ce47030",
   "metadata": {},
   "source": [
    "#### Questions"
   ]
  },
  {
   "cell_type": "markdown",
   "id": "e98ab3ca",
   "metadata": {},
   "source": [
    "1. Do the users spend more time on the new landing page than on the existing landing page?\n",
    "\n",
    "2. Is the conversion rate (the proportion of users who visit the landing page and get converted) for the new page greater than the conversion rate for the old page?\n",
    "\n",
    "3. Does the converted status depend on the preferred language?\n",
    "\n",
    "4. Is the time spent on the new page the same for the different language users?\n"
   ]
  },
  {
   "cell_type": "markdown",
   "id": "ed9f5d74",
   "metadata": {},
   "source": [
    "#### Data Dictionary"
   ]
  },
  {
   "cell_type": "markdown",
   "id": "263da039",
   "metadata": {},
   "source": [
    "user_id - Unique user ID of the person visiting the website\n",
    "\n",
    "group - Whether the user belongs to the first group (control) or the second group (treatment)\n",
    "\n",
    "landing_page - Whether the landing page is new or old\n",
    "\n",
    "time_spent_on_the_page - Time (in minutes) spent by the user on the landing page\n",
    "\n",
    "converted - Whether the user gets converted to a subscriber of the news portal or not\n",
    "\n",
    "language_preferred - Language chosen by the user to view the landing page\n"
   ]
  },
  {
   "cell_type": "markdown",
   "id": "fa19b196",
   "metadata": {},
   "source": [
    "## Exploratory Data Analysis"
   ]
  },
  {
   "cell_type": "code",
   "execution_count": 1,
   "id": "7d08915f",
   "metadata": {},
   "outputs": [],
   "source": [
    "# Importing relevant libraries\n",
    "import pandas as pd\n",
    "import numpy as np\n",
    "import matplotlib.pyplot as plt\n",
    "import seaborn as sns\n",
    "from scipy.stats import ttest_ind\n",
    "\n"
   ]
  },
  {
   "cell_type": "code",
   "execution_count": 41,
   "id": "444bd718",
   "metadata": {},
   "outputs": [],
   "source": [
    "# Importing the dataset\n",
    "abtest = pd.read_csv(\"abtest.csv\")"
   ]
  },
  {
   "cell_type": "code",
   "execution_count": 42,
   "id": "4360bf2a",
   "metadata": {},
   "outputs": [
    {
     "name": "stdout",
     "output_type": "stream",
     "text": [
      "             user_id  time_spent_on_the_page\n",
      "count     100.000000              100.000000\n",
      "mean   546517.000000                5.377800\n",
      "std        52.295779                2.378166\n",
      "min    546443.000000                0.190000\n",
      "25%    546467.750000                3.880000\n",
      "50%    546492.500000                5.415000\n",
      "75%    546567.250000                7.022500\n",
      "max    546592.000000               10.710000\n"
     ]
    }
   ],
   "source": [
    "# Summary statistics\n",
    "print(abtest.describe())"
   ]
  },
  {
   "cell_type": "code",
   "execution_count": 5,
   "id": "6412eca7",
   "metadata": {},
   "outputs": [
    {
     "name": "stdout",
     "output_type": "stream",
     "text": [
      "control      50\n",
      "treatment    50\n",
      "Name: group, dtype: int64\n",
      "old    50\n",
      "new    50\n",
      "Name: landing_page, dtype: int64\n",
      "yes    54\n",
      "no     46\n",
      "Name: converted, dtype: int64\n",
      "Spanish    34\n",
      "French     34\n",
      "English    32\n",
      "Name: language_preferred, dtype: int64\n"
     ]
    }
   ],
   "source": [
    "# Unique values and counts for categorical variables\n",
    "print(abtest['group'].value_counts())\n",
    "print(abtest['landing_page'].value_counts())\n",
    "print(abtest['converted'].value_counts())\n",
    "print(abtest['language_preferred'].value_counts())"
   ]
  },
  {
   "cell_type": "code",
   "execution_count": 7,
   "id": "271341ee",
   "metadata": {},
   "outputs": [
    {
     "data": {
      "image/png": "[encoded data removed]",
      "text/plain": [
       "<Figure size 432x288 with 1 Axes>"
      ]
     },
     "metadata": {
      "needs_background": "light"
     },
     "output_type": "display_data"
    }
   ],
   "source": [
    "# Histogram of time spent on the page\n",
    "plt.hist(abtest['time_spent_on_the_page'], bins=40, color='Green')\n",
    "plt.title('Distribution of Time Spent on Page')\n",
    "plt.xlabel('Time Spent on Page (minutes)')\n",
    "plt.ylabel('Frequency')\n",
    "plt.show()"
   ]
  },
  {
   "cell_type": "code",
   "execution_count": 8,
   "id": "54a22268",
   "metadata": {},
   "outputs": [
    {
     "name": "stdout",
     "output_type": "stream",
     "text": [
      "Average Time Spent on Page: 5.38 minutes\n"
     ]
    }
   ],
   "source": [
    "# Calculate average time spent on page\n",
    "average_time_spent = round(abtest['time_spent_on_the_page'].mean(), 2)\n",
    "print(\"Average Time Spent on Page:\", average_time_spent, \"minutes\")\n"
   ]
  },
  {
   "cell_type": "code",
   "execution_count": 17,
   "id": "41a0daa6",
   "metadata": {},
   "outputs": [
    {
     "name": "stdout",
     "output_type": "stream",
     "text": [
      "Average Time Spent on Old Landing Page: 4.53 minutes\n",
      "Average Time Spent on New Landing Page: 6.22 minutes\n"
     ]
    }
   ],
   "source": [
    "# Calculate average time spent on the old landing page\n",
    "average_time_spent_old = round(abtest[abtest['landing_page'] == 'old']['time_spent_on_the_page'].mean(), 2)\n",
    "\n",
    "# Calculate average time spent on the new landing page\n",
    "average_time_spent_new = round(abtest[abtest['landing_page'] == 'new']['time_spent_on_the_page'].mean(), 2)\n",
    "\n",
    "print(\"Average Time Spent on Old Landing Page:\", average_time_spent_old, \"minutes\")\n",
    "print(\"Average Time Spent on New Landing Page:\", average_time_spent_new, \"minutes\")\n"
   ]
  },
  {
   "cell_type": "code",
   "execution_count": 10,
   "id": "3dfef541",
   "metadata": {},
   "outputs": [
    {
     "name": "stdout",
     "output_type": "stream",
     "text": [
      "Average Time Spent on Page (English): 5.56 minutes\n",
      "Average Time Spent on Page (Spanish): 5.33 minutes\n",
      "Average Time Spent on Page (French): 5.25 minutes\n"
     ]
    }
   ],
   "source": [
    "# Filter data for each language preferred and calculate average time spent on the page\n",
    "average_time_spent_english = round(abtest[abtest['language_preferred'] == 'English']['time_spent_on_the_page'].mean(), 2)\n",
    "average_time_spent_spanish = round(abtest[abtest['language_preferred'] == 'Spanish']['time_spent_on_the_page'].mean(), 2)\n",
    "average_time_spent_french = round(abtest[abtest['language_preferred'] == 'French']['time_spent_on_the_page'].mean(), 2)\n",
    "\n",
    "# Print average time spent on the page for each language preferred\n",
    "print(\"Average Time Spent on Page (English):\", average_time_spent_english, \"minutes\")\n",
    "print(\"Average Time Spent on Page (Spanish):\", average_time_spent_spanish, \"minutes\")\n",
    "print(\"Average Time Spent on Page (French):\", average_time_spent_french, \"minutes\")\n"
   ]
  },
  {
   "cell_type": "code",
   "execution_count": 11,
   "id": "9fe0fac2",
   "metadata": {},
   "outputs": [
    {
     "data": {
      "image/png": "[encoded data removed]",
      "text/plain": [
       "<Figure size 720x432 with 1 Axes>"
      ]
     },
     "metadata": {
      "needs_background": "light"
     },
     "output_type": "display_data"
    }
   ],
   "source": [
    "import seaborn as sns\n",
    "\n",
    "# Calculate average time spent on the landing page by language preferred\n",
    "average_time_spent_by_language = abtest.groupby('language_preferred')['time_spent_on_the_page'].mean().round(2)\n",
    "\n",
    "# Create box plot\n",
    "plt.figure(figsize=(10, 6))\n",
    "sns.boxplot(x='language_preferred', y='time_spent_on_the_page', data=abtest)\n",
    "plt.title('Average Time Spent on Landing Page by Language Preferred')\n",
    "plt.xlabel('Language Preferred')\n",
    "plt.ylabel('Time Spent on Page (minutes)')\n",
    "plt.show()\n"
   ]
  },
  {
   "cell_type": "code",
   "execution_count": 22,
   "id": "80a53d07",
   "metadata": {
    "scrolled": false
   },
   "outputs": [
    {
     "data": {
      "image/png": "[encoded data removed]",
      "text/plain": [
       "<Figure size 720x432 with 1 Axes>"
      ]
     },
     "metadata": {
      "needs_background": "light"
     },
     "output_type": "display_data"
    }
   ],
   "source": [
    "import seaborn as sns\n",
    "\n",
    "# Filter data for the new landing page\n",
    "new_page_data = abtest[abtest['landing_page'] == 'new']\n",
    "\n",
    "# Create box plot\n",
    "plt.figure(figsize=(10, 6))\n",
    "sns.boxplot(x='language_preferred', y='time_spent_on_the_page', data=new_page_data)\n",
    "plt.title('Average Time Spent on New Landing Page by Language Preferred')\n",
    "plt.xlabel('Language Preferred')\n",
    "plt.ylabel('Time Spent on Page (minutes)')\n",
    "plt.show()\n"
   ]
  },
  {
   "cell_type": "code",
   "execution_count": 43,
   "id": "159c612f",
   "metadata": {},
   "outputs": [
    {
     "data": {
      "image/png": "[encoded data removed]",
      "text/plain": [
       "<Figure size 720x432 with 1 Axes>"
      ]
     },
     "metadata": {
      "needs_background": "light"
     },
     "output_type": "display_data"
    }
   ],
   "source": [
    "# Treating outliers\n",
    "\n",
    "import seaborn as sns\n",
    "\n",
    "# Filter data for the new landing page\n",
    "new_page_data = abtest[abtest['landing_page'] == 'new']\n",
    "\n",
    "# Calculate IQR for each language group\n",
    "q1 = new_page_data.groupby('language_preferred')['time_spent_on_the_page'].quantile(0.25)\n",
    "q3 = new_page_data.groupby('language_preferred')['time_spent_on_the_page'].quantile(0.75)\n",
    "iqr = q3 - q1\n",
    "\n",
    "# Define upper and lower bounds for outliers\n",
    "lower_bound = q1 - 1.5 * iqr\n",
    "upper_bound = q3 + 1.5 * iqr\n",
    "\n",
    "# Filter out outliers\n",
    "filtered_new_page_data = new_page_data.groupby('language_preferred').apply(lambda x: x[(x['time_spent_on_the_page'] >= lower_bound[x.name]) & (x['time_spent_on_the_page'] <= upper_bound[x.name])])\n",
    "\n",
    "# Create box plot\n",
    "plt.figure(figsize=(10, 6))\n",
    "sns.boxplot(x='language_preferred', y='time_spent_on_the_page', data=filtered_new_page_data)\n",
    "plt.title('Average Time Spent on New Landing Page by Language Preferred (without outliers)')\n",
    "plt.xlabel('Language Preferred')\n",
    "plt.ylabel('Time Spent on Page (minutes)')\n",
    "plt.show()\n"
   ]
  },
  {
   "cell_type": "markdown",
   "id": "2fc4a929",
   "metadata": {},
   "source": [
    "## 1. Do the users spend more time on the new landing page than the old landing page?"
   ]
  },
  {
   "cell_type": "code",
   "execution_count": 24,
   "id": "5f88490e",
   "metadata": {
    "scrolled": false
   },
   "outputs": [
    {
     "data": {
      "image/png": "[encoded data removed]",
      "text/plain": [
       "<Figure size 432x288 with 1 Axes>"
      ]
     },
     "metadata": {
      "needs_background": "light"
     },
     "output_type": "display_data"
    }
   ],
   "source": [
    "# Create box plot\n",
    "sns.boxplot(x='landing_page', y='time_spent_on_the_page', data=abtest)\n",
    "plt.title('Time Spent on Old vs. New Landing Page')\n",
    "plt.xlabel('Landing Page')\n",
    "plt.ylabel('Time Spent on Page (minutes)')\n",
    "plt.show()"
   ]
  },
  {
   "cell_type": "markdown",
   "id": "2f95f19c",
   "metadata": {},
   "source": [
    "Created side-by-side box plots to visually compare the distribution of time spent on the old and new landing pages."
   ]
  },
  {
   "cell_type": "code",
   "execution_count": 44,
   "id": "511fe672",
   "metadata": {},
   "outputs": [
    {
     "data": {
      "image/png": "[encoded data removed]",
      "text/plain": [
       "<Figure size 720x432 with 1 Axes>"
      ]
     },
     "metadata": {
      "needs_background": "light"
     },
     "output_type": "display_data"
    },
    {
     "data": {
      "image/png": "[encoded data removed]",
      "text/plain": [
       "<Figure size 720x432 with 1 Axes>"
      ]
     },
     "metadata": {
      "needs_background": "light"
     },
     "output_type": "display_data"
    }
   ],
   "source": [
    "# Treating Outliers discovered with the box plots\n",
    "\n",
    "\n",
    "import seaborn as sns\n",
    "\n",
    "# Filter data for the new and old landing pages\n",
    "new_page_data = abtest[abtest['landing_page'] == 'new']\n",
    "old_page_data = abtest[abtest['landing_page'] == 'old']\n",
    "\n",
    "# Define a function to remove outliers based on IQR for each landing page type\n",
    "def remove_outliers(group):\n",
    "    q1 = group['time_spent_on_the_page'].quantile(0.25)\n",
    "    q3 = group['time_spent_on_the_page'].quantile(0.75)\n",
    "    iqr = q3 - q1\n",
    "    lower_bound = q1 - 1.5 * iqr\n",
    "    upper_bound = q3 + 1.5 * iqr\n",
    "    return group[(group['time_spent_on_the_page'] >= lower_bound) & (group['time_spent_on_the_page'] <= upper_bound)]\n",
    "\n",
    "# Remove outliers separately for the new and old landing pages\n",
    "filtered_new_page_data = remove_outliers(new_page_data)\n",
    "filtered_old_page_data = remove_outliers(old_page_data)\n",
    "\n",
    "# Create box plots for the new and old landing pages without outliers\n",
    "plt.figure(figsize=(10, 6))\n",
    "sns.boxplot(x='landing_page', y='time_spent_on_the_page', data=filtered_new_page_data)\n",
    "plt.title('Time Spent on New Landing Page (without outliers)')\n",
    "plt.xlabel('Landing Page')\n",
    "plt.ylabel('Time Spent on Page (minutes)')\n",
    "plt.show()\n",
    "\n",
    "plt.figure(figsize=(10, 6))\n",
    "sns.boxplot(x='landing_page', y='time_spent_on_the_page', data=filtered_old_page_data)\n",
    "plt.title('Time Spent on Old Landing Page (without outliers)')\n",
    "plt.xlabel('Landing Page')\n",
    "plt.ylabel('Time Spent on Page (minutes)')\n",
    "plt.show()\n"
   ]
  },
  {
   "cell_type": "markdown",
   "id": "11aba7d7",
   "metadata": {},
   "source": [
    "Formulating Hypotheses:\n",
    "\n",
    "\n",
    "Null Hypothesis (H0): The mean time spent on the new landing page is equal to the mean time spent on the old landing page.\n",
    "\n",
    "Alternative Hypothesis (H1): The mean time spent on the new landing page is greater than the mean time spent on the old landing page."
   ]
  },
  {
   "cell_type": "markdown",
   "id": "15b8dbf7",
   "metadata": {},
   "source": [
    "Since we are comparing the means of two independent groups (old and new landing pages) and want to determine if the mean of one group is greater than the other, we'll use a one-tailed independent samples t-test."
   ]
  },
  {
   "cell_type": "code",
   "execution_count": 26,
   "id": "e4ec1b12",
   "metadata": {},
   "outputs": [
    {
     "name": "stdout",
     "output_type": "stream",
     "text": [
      "T-Statistic: 3.7109302984935417\n",
      "P-Value: 0.00017393997064136656\n"
     ]
    }
   ],
   "source": [
    "from scipy.stats import ttest_ind\n",
    "\n",
    "# Separate data for old and new landing pages\n",
    "old_page_data = filtered_old_page_data[filtered_old_page_data['landing_page'] == 'old']['time_spent_on_the_page']\n",
    "new_page_data = filtered_new_page_data[filtered_new_page_data['landing_page'] == 'new']['time_spent_on_the_page']\n",
    "\n",
    "# Perform one-tailed independent samples t-test\n",
    "t_statistic, p_value = ttest_ind(new_page_data, old_page_data, alternative='greater')\n",
    "\n",
    "print(\"T-Statistic:\", t_statistic)\n",
    "print(\"P-Value:\", p_value)\n"
   ]
  },
  {
   "cell_type": "markdown",
   "id": "bc5c08a0",
   "metadata": {},
   "source": [
    "**Inference based on the p-value:**\n",
    "\n",
    "If the p-value is less than the chosen significance level **0.05**, we reject the null hypothesis.\n",
    "\n",
    "\n",
    "If the p-value is greater than or equal to the significance level, we fail to reject the null hypothesis."
   ]
  },
  {
   "cell_type": "markdown",
   "id": "5a778c1d",
   "metadata": {},
   "source": [
    "**Conclusion**\n",
    "\n",
    "The users spend more time on the new landing page than the old landing page."
   ]
  },
  {
   "cell_type": "markdown",
   "id": "bd0d1621",
   "metadata": {},
   "source": [
    "## 2. Is the conversion rate (the proportion of users who visit the landing page and get converted) for the new page greater than the conversion rate for the old page?"
   ]
  },
  {
   "cell_type": "markdown",
   "id": "8d004cda",
   "metadata": {},
   "source": [
    "Visualizing the conversion rates for the old and new landing pages using bar plots "
   ]
  },
  {
   "cell_type": "code",
   "execution_count": 27,
   "id": "4ed0436d",
   "metadata": {
    "scrolled": true
   },
   "outputs": [
    {
     "data": {
      "image/png": "[encoded data removed]",
      "text/plain": [
       "<Figure size 432x288 with 1 Axes>"
      ]
     },
     "metadata": {
      "needs_background": "light"
     },
     "output_type": "display_data"
    }
   ],
   "source": [
    "import matplotlib.pyplot as plt\n",
    "\n",
    "# Create contingency table of landing page type and conversion status\n",
    "contingency_table = pd.crosstab(abtest['landing_page'], abtest['converted'])\n",
    "\n",
    "# Plot stacked bar chart\n",
    "contingency_table.plot(kind='bar', stacked=True)\n",
    "plt.title('Conversion Status by Landing Page Type')\n",
    "plt.xlabel('Landing Page Type')\n",
    "plt.ylabel('Count')\n",
    "plt.xticks(rotation=0)\n",
    "plt.legend(title='Conversion Status')\n",
    "plt.show()\n"
   ]
  },
  {
   "cell_type": "markdown",
   "id": "69a8ad4a",
   "metadata": {},
   "source": [
    "**Formulate Hypotheses:**\n",
    "\n",
    "Null Hypothesis (H0): There is no difference in conversion rates between the old and new landing pages.\n",
    "\n",
    "Alternative Hypothesis (H1): The conversion rate for the new landing page is greater than the conversion rate for the old landing page.\n",
    "\n",
    "Select Appropriate Test:\n",
    "We'll use a chi-square test of independence to determine if there is a significant association between the landing page type and conversion status."
   ]
  },
  {
   "cell_type": "markdown",
   "id": "d44fd895",
   "metadata": {},
   "source": [
    "Since we are comparing the proportions of two independent groups (old and new landing pages) and want to determine if the proportion of one group is greater than the other, we'll use a one-tailed z-test for proportions."
   ]
  },
  {
   "cell_type": "code",
   "execution_count": 28,
   "id": "1105e08d",
   "metadata": {},
   "outputs": [
    {
     "name": "stdout",
     "output_type": "stream",
     "text": [
      "P-Value: 0.02730889175492232\n"
     ]
    }
   ],
   "source": [
    "from scipy.stats import chi2_contingency\n",
    "\n",
    "# Perform chi-square test of independence\n",
    "chi2_stat, p_value, dof, expected = chi2_contingency(contingency_table)\n",
    "\n",
    "print(\"P-Value:\", p_value)\n"
   ]
  },
  {
   "cell_type": "markdown",
   "id": "da715a63",
   "metadata": {},
   "source": [
    "**Inference based on p-value:**\n",
    "\n",
    "If the p-value is less than the chosen significance level **0.05**, we reject the null hypothesis.\n",
    "\n",
    "If the p-value is greater than or equal to the significance level, we fail to reject the null hypothesis.\n"
   ]
  },
  {
   "cell_type": "markdown",
   "id": "d035e2bf",
   "metadata": {},
   "source": [
    "**Conclusion**\n",
    "\n",
    "We can conclude that the conversion rate for the new landing page is greater than the conversion rate for the old landing page."
   ]
  },
  {
   "cell_type": "markdown",
   "id": "5fccf1a5",
   "metadata": {},
   "source": [
    "## 3. Does the converted status depend on the preferred language?"
   ]
  },
  {
   "cell_type": "markdown",
   "id": "baa5e8a5",
   "metadata": {},
   "source": [
    "Creating a contingency table and visualize the relationship between converted status and preferred language using a stacked bar chart "
   ]
  },
  {
   "cell_type": "code",
   "execution_count": 29,
   "id": "c5e65a45",
   "metadata": {},
   "outputs": [
    {
     "data": {
      "image/png": "[encoded data removed]",
      "text/plain": [
       "<Figure size 432x288 with 1 Axes>"
      ]
     },
     "metadata": {
      "needs_background": "light"
     },
     "output_type": "display_data"
    }
   ],
   "source": [
    "# Create contingency table of converted status and preferred language\n",
    "contingency_table = pd.crosstab(abtest['converted'], abtest['language_preferred'])\n",
    "\n",
    "# Visualize contingency table\n",
    "contingency_table.plot(kind='bar', stacked=True)\n",
    "plt.title('Converted Status by Preferred Language')\n",
    "plt.xlabel('Converted Status')\n",
    "plt.ylabel('Count')\n",
    "plt.xticks([0, 1], ['Not Converted', 'Converted'], rotation=0)\n",
    "plt.legend(title='Preferred Language')\n",
    "plt.show()\n"
   ]
  },
  {
   "cell_type": "markdown",
   "id": "d62c1d5e",
   "metadata": {},
   "source": [
    "**Formulate Hypotheses:**\n",
    "    \n",
    "Null Hypothesis (H0): The converted status is independent of preferred language.\n",
    "    \n",
    "Alternative Hypothesis (H1): The converted status is dependent on preferred language."
   ]
  },
  {
   "cell_type": "markdown",
   "id": "0113123d",
   "metadata": {},
   "source": [
    "Since we are comparing categorical variables (converted status and preferred language) to determine if they are independent, we'll use a chi-square test of independence"
   ]
  },
  {
   "cell_type": "code",
   "execution_count": 30,
   "id": "2fe04db6",
   "metadata": {},
   "outputs": [
    {
     "name": "stdout",
     "output_type": "stream",
     "text": [
      "Chi-Square Statistic: 3.0930306905370837\n",
      "P-Value: 0.21298887487543447\n"
     ]
    }
   ],
   "source": [
    "from scipy.stats import chi2_contingency\n",
    "\n",
    "# Perform chi-square test\n",
    "chi2_statistic, p_value, dof, expected = chi2_contingency(contingency_table)\n",
    "\n",
    "print(\"Chi-Square Statistic:\", chi2_statistic)\n",
    "print(\"P-Value:\", p_value)\n"
   ]
  },
  {
   "cell_type": "markdown",
   "id": "cbf840f2",
   "metadata": {},
   "source": [
    "**Inference based on the p-value:**\n",
    "    \n",
    "If the p-value is less than the chosen significance level **0.05**, we reject the null hypothesis.\n",
    "\n",
    "If the p-value is greater than or equal to the significance level, we fail to reject the null hypothesis."
   ]
  },
  {
   "cell_type": "markdown",
   "id": "6881e765",
   "metadata": {},
   "source": [
    "**Conclusion**\n",
    "\n",
    "We fail to reject the null hypothesis, suggesting that there is no significant dependence between converted status and preferred language."
   ]
  },
  {
   "cell_type": "markdown",
   "id": "dd7d06fc",
   "metadata": {},
   "source": [
    "## 4. Is the time spent on the new page the same for the different language users?"
   ]
  },
  {
   "cell_type": "markdown",
   "id": "bb690767",
   "metadata": {},
   "source": [
    "Visualizing the distribution of time spent on the new landing page for each language group using box plots."
   ]
  },
  {
   "cell_type": "code",
   "execution_count": 31,
   "id": "2a05ade1",
   "metadata": {},
   "outputs": [
    {
     "data": {
      "image/png": "[encoded data removed]",
      "text/plain": [
       "<Figure size 720x432 with 1 Axes>"
      ]
     },
     "metadata": {
      "needs_background": "light"
     },
     "output_type": "display_data"
    }
   ],
   "source": [
    "# Filter data for users on the new landing page\n",
    "new_page_data = filtered_new_page_data[filtered_new_page_data['landing_page'] == 'new']\n",
    "\n",
    "# Box plot of time spent on page by language preferred\n",
    "plt.figure(figsize=(10, 6))\n",
    "sns.boxplot(x='language_preferred', y='time_spent_on_the_page', data=filtered_new_page_data)\n",
    "plt.title('Time Spent on New Page by Language Preferred')\n",
    "plt.xlabel('Language Preferred')\n",
    "plt.ylabel('Time Spent on Page (minutes)')\n",
    "plt.show()\n"
   ]
  },
  {
   "cell_type": "markdown",
   "id": "d3c7f18a",
   "metadata": {},
   "source": [
    "**Formulate Hypotheses:**\n",
    "    \n",
    "Null Hypothesis (H0): The mean time spent on the new landing page is the same for all language groups.\n",
    "    \n",
    "    \n",
    "Alternative Hypothesis (H1): The mean time spent on the new landing page is different for at least one language group."
   ]
  },
  {
   "cell_type": "markdown",
   "id": "65fa6f64",
   "metadata": {},
   "source": [
    "Since we are comparing means across multiple groups, we'll use an analysis of variance (ANOVA) test to determine if there are significant differences in the mean time spent on the new landing page across different language groups."
   ]
  },
  {
   "cell_type": "code",
   "execution_count": 39,
   "id": "7285b2ca",
   "metadata": {},
   "outputs": [
    {
     "name": "stdout",
     "output_type": "stream",
     "text": [
      "F-Statistic: 0.4217641681480022\n",
      "P-Value: 0.65851217717061\n"
     ]
    }
   ],
   "source": [
    "from scipy.stats import f_oneway\n",
    "\n",
    "# Perform ANOVA test\n",
    "f_statistic, p_value = f_oneway(\n",
    "    new_page_data[new_page_data['language_preferred'] == 'English']['time_spent_on_the_page'],\n",
    "    new_page_data[new_page_data['language_preferred'] == 'Spanish']['time_spent_on_the_page'],\n",
    "    new_page_data[new_page_data['language_preferred'] == 'French']['time_spent_on_the_page']\n",
    ")\n",
    "\n",
    "print(\"F-Statistic:\", f_statistic)\n",
    "print(\"P-Value:\", p_value)\n"
   ]
  },
  {
   "cell_type": "markdown",
   "id": "29a1cb68",
   "metadata": {},
   "source": [
    "**Inference based on the p-value:**\n",
    "    \n",
    "If the p-value is less than the chosen significance level **0.05**, we reject the null hypothesis.\n",
    "\n",
    "\n",
    "If the p-value is greater than or equal to the significance level, we fail to reject the null hypothesis."
   ]
  },
  {
   "cell_type": "markdown",
   "id": "fa0ee7b4",
   "metadata": {},
   "source": [
    "**Conclusion**\n",
    "\n",
    "We fail to reject the null hypothesis, suggesting that there is no significant difference in the means of time spent on the new page across different language groups."
   ]
  },
  {
   "cell_type": "markdown",
   "id": "d1bf118b",
   "metadata": {},
   "source": [
    "Based on the analysis conducted, here are the conclusions and business recommendations:"
   ]
  },
  {
   "cell_type": "markdown",
   "id": "3a9bceac",
   "metadata": {},
   "source": [
    "**Conclusions**\n",
    "\n",
    "1. The new landing page appears to attract users' attention, as evidenced by higher time spent compared to the old landing page.\n",
    "\n",
    "2. Language preference influences user behavior and conversion rates to some extent.\n",
    "\n",
    "3. Average Time Spent on Page is 5.38 minutes\n",
    "\n",
    "4. Average Time Spent on Old Landing Page: 4.53 minutes\n",
    "\n",
    "5.   Average Time Spent on New Landing Page: 6.22 minutes"
   ]
  },
  {
   "cell_type": "markdown",
   "id": "46ee6422",
   "metadata": {},
   "source": [
    "**Recommendations**\n",
    "\n",
    "1. Continuously monitor user engagement metrics on the new landing page to identify areas for improvement.\n",
    "\n",
    "2. Tailor content and messaging on the landing page to cater to users' language preferences.\n",
    "\n",
    "3. Develop targeted marketing campaigns and promotions to attract and retain users from diverse linguistic backgrounds."
   ]
  }
 ],
 "metadata": {
  "kernelspec": {
   "display_name": "Python 3 (ipykernel)",
   "language": "python",
   "name": "python3"
  },
  "language_info": {
   "codemirror_mode": {
    "name": "ipython",
    "version": 3
   },
   "file_extension": ".py",
   "mimetype": "text/x-python",
   "name": "python",
   "nbconvert_exporter": "python",
   "pygments_lexer": "ipython3",
   "version": "3.9.12"
  }
 },
 "nbformat": 4,
 "nbformat_minor": 5
}
